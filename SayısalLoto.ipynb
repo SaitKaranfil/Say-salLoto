{
  "nbformat": 4,
  "nbformat_minor": 0,
  "metadata": {
    "colab": {
      "provenance": []
    },
    "kernelspec": {
      "name": "python3",
      "display_name": "Python 3"
    },
    "language_info": {
      "name": "python"
    }
  },
  "cells": [
    {
      "cell_type": "code",
      "execution_count": 15,
      "metadata": {
        "colab": {
          "base_uri": "https://localhost:8080/"
        },
        "id": "O9QfUXW-DSWr",
        "outputId": "a48ff3bd-8ba0-435a-b9c4-f9717f2edbb2"
      },
      "outputs": [
        {
          "output_type": "execute_result",
          "data": {
            "text/plain": [
              "array([[33, 42, 14, 13, 30, 15],\n",
              "       [29, 44, 25, 41, 32, 18],\n",
              "       [26, 37, 10, 15, 19, 53],\n",
              "       [56, 51, 21, 35, 48, 29],\n",
              "       [10, 32, 47, 10, 14, 24],\n",
              "       [57, 26, 36, 50, 42, 48],\n",
              "       [44, 42, 18, 39, 46, 52],\n",
              "       [49, 40, 11, 13, 28, 27]])"
            ]
          },
          "metadata": {},
          "execution_count": 15
        }
      ],
      "source": [
        "import numpy as np\n",
        "sayısalLoto=np.random.randint(10,58, size=(8,6))\n",
        "sayısalLoto"
      ]
    },
    {
      "cell_type": "code",
      "source": [],
      "metadata": {
        "id": "eXQKU1jcDwRH"
      },
      "execution_count": null,
      "outputs": []
    }
  ]
}